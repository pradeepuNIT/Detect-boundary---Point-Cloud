{
 "cells": [
  {
   "cell_type": "code",
   "execution_count": 8,
   "id": "809eb469",
   "metadata": {},
   "outputs": [],
   "source": [
    "import matplotlib.pyplot as plt\n",
    "import open3d as o3d\n",
    "import laspy\n",
    "import numpy as np"
   ]
  },
  {
   "cell_type": "code",
   "execution_count": 4,
   "id": "bab5d8b3",
   "metadata": {},
   "outputs": [
    {
     "data": {
      "text/plain": [
       "<LasData(1.2, point fmt: <PointFormat(3, 0 bytes of extra dims)>, 16152697 points, 2 vlrs)>"
      ]
     },
     "execution_count": 4,
     "metadata": {},
     "output_type": "execute_result"
    }
   ],
   "source": [
    "pc1 = laspy.read(\"constructn_floor1.laz\")\n",
    "pc1"
   ]
  },
  {
   "cell_type": "code",
   "execution_count": 5,
   "id": "43075560",
   "metadata": {},
   "outputs": [
    {
     "data": {
      "text/plain": [
       "array([[3.85385990e+05, 2.04980961e+06, 5.73620000e+02],\n",
       "       [3.85385960e+05, 2.04980958e+06, 5.73630000e+02],\n",
       "       [3.85385990e+05, 2.04980961e+06, 5.73620000e+02],\n",
       "       ...,\n",
       "       [3.85395410e+05, 2.04978844e+06, 5.70990000e+02],\n",
       "       [3.85396530e+05, 2.04978823e+06, 5.71040000e+02],\n",
       "       [3.85386120e+05, 2.04979791e+06, 5.70930000e+02]])"
      ]
     },
     "execution_count": 5,
     "metadata": {},
     "output_type": "execute_result"
    }
   ],
   "source": [
    "xyz = np.vstack((pc1.x, pc1.y, pc1.z)).transpose()\n",
    "xyz"
   ]
  },
  {
   "cell_type": "code",
   "execution_count": 6,
   "id": "6465c44e",
   "metadata": {},
   "outputs": [
    {
     "data": {
      "text/plain": [
       "(16152697, 3)"
      ]
     },
     "execution_count": 6,
     "metadata": {},
     "output_type": "execute_result"
    }
   ],
   "source": [
    "xyz.shape"
   ]
  },
  {
   "cell_type": "code",
   "execution_count": 9,
   "id": "246df5da",
   "metadata": {},
   "outputs": [
    {
     "data": {
      "text/plain": [
       "[<matplotlib.lines.Line2D at 0x7f36fd3fed90>]"
      ]
     },
     "execution_count": 9,
     "metadata": {},
     "output_type": "execute_result"
    },
    {
     "data": {
      "image/png": "[encoded data removed]",
      "text/plain": [
       "<Figure size 432x288 with 1 Axes>"
      ]
     },
     "metadata": {
      "needs_background": "light"
     },
     "output_type": "display_data"
    }
   ],
   "source": [
    "plt.plot(xyz[::1000,0], xyz[::1000,1], ',')"
   ]
  },
  {
   "cell_type": "code",
   "execution_count": 14,
   "id": "155c5557",
   "metadata": {},
   "outputs": [
    {
     "name": "stdout",
     "output_type": "stream",
     "text": [
      "pcd: PointCloud with 16152697 points.\n"
     ]
    }
   ],
   "source": [
    "# Convert numpy array to Open3D point cloud\n",
    "\n",
    "pcd = o3d.geometry.PointCloud()\n",
    "pcd.points = o3d.utility.Vector3dVector(xyz)\n",
    "print('pcd:', pcd)"
   ]
  },
  {
   "cell_type": "code",
   "execution_count": 15,
   "id": "d7c7adcf",
   "metadata": {},
   "outputs": [],
   "source": [
    "o3d.visualization.draw_geometries([pcd])"
   ]
  },
  {
   "cell_type": "code",
   "execution_count": 16,
   "id": "740b39e8",
   "metadata": {},
   "outputs": [
    {
     "name": "stdout",
     "output_type": "stream",
     "text": [
      "pcd_1m:  PointCloud with 2020 points.\n"
     ]
    }
   ],
   "source": [
    "pcd_1m = pcd.voxel_down_sample(voxel_size=1)\n",
    "print('pcd_1m: ', pcd_1m)"
   ]
  },
  {
   "cell_type": "code",
   "execution_count": 17,
   "id": "73797f87",
   "metadata": {},
   "outputs": [],
   "source": [
    "o3d.visualization.draw_geometries([pcd_1m])"
   ]
  },
  {
   "cell_type": "code",
   "execution_count": 18,
   "id": "62d59979",
   "metadata": {},
   "outputs": [],
   "source": [
    "pcd_1m.estimate_normals(\n",
    "    o3d.geometry.KDTreeSearchParamHybrid(radius=2, max_nn=18))\n",
    "pcd_1m.orient_normals_to_align_with_direction([0., 0., 1.])"
   ]
  },
  {
   "cell_type": "code",
   "execution_count": 19,
   "id": "a191222c",
   "metadata": {},
   "outputs": [],
   "source": [
    "o3d.visualization.draw_geometries([pcd_1m])"
   ]
  },
  {
   "cell_type": "code",
   "execution_count": 20,
   "id": "d3216199",
   "metadata": {},
   "outputs": [],
   "source": [
    "# Convert the .laz file to an Open3D point cloud object\n",
    "pcd = o3d.geometry.PointCloud()\n",
    "pcd.points = o3d.utility.Vector3dVector(np.vstack((pc1.x, pc1.y, pc1.z)).T)"
   ]
  },
  {
   "cell_type": "code",
   "execution_count": 12,
   "id": "4d5bde44",
   "metadata": {},
   "outputs": [
    {
     "data": {
      "text/plain": [
       "True"
      ]
     },
     "execution_count": 12,
     "metadata": {},
     "output_type": "execute_result"
    }
   ],
   "source": [
    "# Save the Open3D point cloud object as a .ply file\n",
    "o3d.io.write_point_cloud(\"constructn_floor1.ply\", pcd)"
   ]
  },
  {
   "cell_type": "code",
   "execution_count": 28,
   "id": "660dcff9",
   "metadata": {},
   "outputs": [],
   "source": [
    "# Load the point cloud\n",
    "pcd = o3d.io.read_point_cloud(\"constructn_floor1.ply\")"
   ]
  },
  {
   "cell_type": "code",
   "execution_count": 29,
   "id": "af8a20b0",
   "metadata": {},
   "outputs": [],
   "source": [
    "# Segment plane using RANSAC\n",
    "plane_model, inliers = pcd.segment_plane(distance_threshold=0.1, ransac_n=3, num_iterations=1000)"
   ]
  },
  {
   "cell_type": "code",
   "execution_count": 30,
   "id": "f59e9fc6",
   "metadata": {},
   "outputs": [],
   "source": [
    "# Extract inliers and outliers\n",
    "inlier_cloud = pcd.select_by_index(inliers)\n",
    "outlier_cloud = pcd.select_by_index(inliers, invert=True)"
   ]
  },
  {
   "cell_type": "code",
   "execution_count": 31,
   "id": "caea761d",
   "metadata": {},
   "outputs": [],
   "source": [
    "# Visualize the result\n",
    "inlier_cloud.paint_uniform_color([1, 0, 0])\n",
    "outlier_cloud.paint_uniform_color([0.6, 0.6, 0.6])\n",
    "o3d.visualization.draw_geometries([inlier_cloud, outlier_cloud])"
   ]
  },
  {
   "cell_type": "code",
   "execution_count": 24,
   "id": "115f791f",
   "metadata": {},
   "outputs": [],
   "source": []
  },
  {
   "cell_type": "code",
   "execution_count": 27,
   "id": "a2e1e63e",
   "metadata": {},
   "outputs": [],
   "source": [
    "# Cluster the remaining points using DBSCAN\n",
    "with o3d.utility.VerbosityContextManager(o3d.utility.VerbosityLevel.Debug) as cm:\n",
    "    labels = np.array(outlier_cloud.cluster_dbscan(eps=0.2, min_points=10, print_progress=True))\n"
   ]
  },
  {
   "cell_type": "code",
   "execution_count": null,
   "id": "eabaf53f",
   "metadata": {},
   "outputs": [],
   "source": [
    "max_label = labels.max()\n",
    "\n",
    "colors = plt.get_cmap(\"tab20\")(labels / (max_label if max_label > 0 else 1))\n",
    "\n",
    "outlier_cloud.colors = o3d.utility.Vector3dVector(colors[:, :3])"
   ]
  },
  {
   "cell_type": "code",
   "execution_count": null,
   "id": "2de0a801",
   "metadata": {},
   "outputs": [],
   "source": []
  }
 ],
 "metadata": {
  "kernelspec": {
   "display_name": "Python 3",
   "language": "python",
   "name": "python3"
  },
  "language_info": {
   "codemirror_mode": {
    "name": "ipython",
    "version": 3
   },
   "file_extension": ".py",
   "mimetype": "text/x-python",
   "name": "python",
   "nbconvert_exporter": "python",
   "pygments_lexer": "ipython3",
   "version": "3.8.10"
  }
 },
 "nbformat": 4,
 "nbformat_minor": 5
}
